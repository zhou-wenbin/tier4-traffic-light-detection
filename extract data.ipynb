{
 "cells": [
  {
   "cell_type": "code",
   "execution_count": 1,
   "metadata": {},
   "outputs": [],
   "source": [
    "from pycocotools.coco import COCO\n",
    "import numpy as np\n",
    "import skimage.io as io\n",
    "import matplotlib.pyplot as plt\n",
    "import pylab\n",
    "import itertools\n",
    "import cv2\n",
    "from time import sleep\n",
    "from fastprogress.fastprogress import master_bar, progress_bar\n",
    "from PIL import Image\n"
   ]
  },
  {
   "cell_type": "code",
   "execution_count": 62,
   "metadata": {},
   "outputs": [],
   "source": [
    "# data location\n",
    "# folder_name = \"nagoya_u_loop\"\n",
    "# folder_name = \"tlr_shinjuku\"\n",
    "# folder_name = \"task_traffic_lights_nagoya_night\"\n",
    "folder_name = \"nissin_exp_image_data\"\n",
    "# folder_name = \"moriyama\"\n",
    "\n",
    "# folder_name = \"Trf_Rosa_1\"\n",
    "\n",
    "\n",
    "dataDir= \"/home/joe/DLlearning/\" + folder_name\n",
    "\n",
    "#filename = 'NU Loop.json'\n",
    "#filename='Traffic Lights Shinjuku.json'\n",
    "# filename = 'Traffic Lights Nagoya Night.json'\n",
    "filename = \"Nissin Traffic Lights.json\"\n",
    "\n",
    "# filename = \"Moriyama.json\"\n",
    "\n",
    "# filename = \"Traffic Lights Rosa.json\"\n",
    "\n",
    "\n",
    "\n"
   ]
  },
  {
   "cell_type": "code",
   "execution_count": 63,
   "metadata": {},
   "outputs": [
    {
     "name": "stdout",
     "output_type": "stream",
     "text": [
      "loading annotations into memory...\n",
      "Done (t=0.03s)\n",
      "creating index...\n",
      "index created!\n"
     ]
    }
   ],
   "source": [
    "annFile='{}/{}'.format(dataDir,filename)\n",
    "coco=COCO(annFile)\n",
    "catIds = coco.getCatIds()\n",
    "imgIds = coco.getImgIds()\n",
    "cats = coco.loadCats(coco.getCatIds())\n",
    "cat_names=[cat['name'] for cat in cats]"
   ]
  },
  {
   "cell_type": "code",
   "execution_count": 89,
   "metadata": {},
   "outputs": [
    {
     "name": "stdout",
     "output_type": "stream",
     "text": [
      "[['go', 1], ['go-left', 2], ['go-right', 3], ['stop', 4], ['warning', 5], ['traffic', 6]]\n",
      "[1, 2, 3, 4, 5, 6]\n",
      "['go', 'go-left', 'go-right', 'stop', 'warning', 'traffic']\n",
      "['bike', 'bus', 'car', 'go', 'go-front', 'go-left', 'go-right', 'light', 'person', 'road-obstacle', 'stop', 'traffic', 'truck', 'warning']\n",
      "14\n"
     ]
    }
   ],
   "source": [
    "#here choose the label\n",
    "labels=['go',  'go-left', 'go-right', 'stop', 'warning', 'traffic']\n",
    "num = [i+1 for i in range(len(labels))];\n",
    "label_file=[]\n",
    "k=1\n",
    "for label in labels:\n",
    "    ss=[label, k]\n",
    "    label_file.append(ss)\n",
    "    k+=1\n",
    "    \n",
    "print(label_file)\n",
    "print(num)\n",
    "print(labels)\n",
    "print(cat_names)\n",
    "print(len(cat_names))\n",
    "\n",
    "# catIds=[5,6,7,8,12,13,16]\n",
    "# catIds = [4,5,6,7,8,11,12,14]\n",
    "# catIds = [4,5,6,7,8,11,12,15]\n",
    "\n"
   ]
  },
  {
   "cell_type": "code",
   "execution_count": 90,
   "metadata": {},
   "outputs": [],
   "source": [
    "import csv\n",
    "import pandas as pd\n",
    "with open( \"/home/joe/DLlearning/labels.csv\", 'w+') as file:\n",
    "    writer = csv.writer(file)\n",
    "    writer.writerow([\"label_name\",\"number\"])\n",
    "    writer.writerows(label_file)"
   ]
  },
  {
   "cell_type": "code",
   "execution_count": 93,
   "metadata": {},
   "outputs": [
    {
     "data": {
      "text/html": [
       "<div>\n",
       "<style scoped>\n",
       "    .dataframe tbody tr th:only-of-type {\n",
       "        vertical-align: middle;\n",
       "    }\n",
       "\n",
       "    .dataframe tbody tr th {\n",
       "        vertical-align: top;\n",
       "    }\n",
       "\n",
       "    .dataframe thead th {\n",
       "        text-align: right;\n",
       "    }\n",
       "</style>\n",
       "<table border=\"1\" class=\"dataframe\">\n",
       "  <thead>\n",
       "    <tr style=\"text-align: right;\">\n",
       "      <th></th>\n",
       "      <th>label_name</th>\n",
       "      <th>number</th>\n",
       "    </tr>\n",
       "  </thead>\n",
       "  <tbody>\n",
       "    <tr>\n",
       "      <th>0</th>\n",
       "      <td>go</td>\n",
       "      <td>1</td>\n",
       "    </tr>\n",
       "    <tr>\n",
       "      <th>1</th>\n",
       "      <td>go-left</td>\n",
       "      <td>2</td>\n",
       "    </tr>\n",
       "    <tr>\n",
       "      <th>2</th>\n",
       "      <td>go-right</td>\n",
       "      <td>3</td>\n",
       "    </tr>\n",
       "    <tr>\n",
       "      <th>3</th>\n",
       "      <td>stop</td>\n",
       "      <td>4</td>\n",
       "    </tr>\n",
       "    <tr>\n",
       "      <th>4</th>\n",
       "      <td>warning</td>\n",
       "      <td>5</td>\n",
       "    </tr>\n",
       "    <tr>\n",
       "      <th>5</th>\n",
       "      <td>traffic</td>\n",
       "      <td>6</td>\n",
       "    </tr>\n",
       "  </tbody>\n",
       "</table>\n",
       "</div>"
      ],
      "text/plain": [
       "  label_name  number\n",
       "0         go       1\n",
       "1    go-left       2\n",
       "2   go-right       3\n",
       "3       stop       4\n",
       "4    warning       5\n",
       "5    traffic       6"
      ]
     },
     "execution_count": 93,
     "metadata": {},
     "output_type": "execute_result"
    }
   ],
   "source": [
    "labelnames=pd.read_csv( \"/home/joe/DLlearning/labels.csv\")\n",
    "labelnames.head(6)"
   ]
  },
  {
   "cell_type": "code",
   "execution_count": 56,
   "metadata": {},
   "outputs": [],
   "source": [
    "i = 0\n",
    "\n",
    "for w in range(len(imgIds)):\n",
    "    image_id = imgIds[i]\n",
    "    img = coco.loadImgs(image_id)\n",
    "    annIds = coco.getAnnIds(imgIds=image_id, catIds=catIds, iscrowd=None)\n",
    "    anns = coco.loadAnns(annIds)\n",
    "    image = cv2.imread('%s/%s'%(dataDir,img[0]['file_name']))\n",
    "    j = 0\n",
    "    for ann in anns:\n",
    "        x0 = int(ann['bbox'][0])\n",
    "        y0 = int(ann['bbox'][1])\n",
    "        x1 = x0 + int(ann['bbox'][2])\n",
    "        y1 = y0 + int(ann['bbox'][3])\n",
    "        roi = image[y0:y1,x0:x1]\n",
    "        target_path = \"/home/joe/DLlearning/data_set/{:}_{}_{:06d}_{:02d}.jpg\".format(cat_names[ann['category_id']-1],folder_name,img[0]['id'], j)\n",
    "        cv2.imwrite(target_path, roi)\n",
    "        j = j+1\n",
    "    i = i+1\n",
    "\n"
   ]
  },
  {
   "cell_type": "code",
   "execution_count": null,
   "metadata": {},
   "outputs": [],
   "source": [
    "path "
   ]
  },
  {
   "cell_type": "code",
   "execution_count": null,
   "metadata": {},
   "outputs": [],
   "source": []
  }
 ],
 "metadata": {
  "kernelspec": {
   "display_name": "Python 3",
   "language": "python",
   "name": "python3"
  },
  "language_info": {
   "codemirror_mode": {
    "name": "ipython",
    "version": 3
   },
   "file_extension": ".py",
   "mimetype": "text/x-python",
   "name": "python",
   "nbconvert_exporter": "python",
   "pygments_lexer": "ipython3",
   "version": "3.6.10"
  }
 },
 "nbformat": 4,
 "nbformat_minor": 4
}
